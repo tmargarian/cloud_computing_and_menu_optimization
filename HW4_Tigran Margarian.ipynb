{
 "cells": [
  {
   "cell_type": "code",
   "execution_count": 1,
   "metadata": {},
   "outputs": [],
   "source": [
    "# Importing the necessary libraries"
   ]
  },
  {
   "cell_type": "code",
   "execution_count": 2,
   "metadata": {},
   "outputs": [],
   "source": [
    "import numpy as np\n",
    "import pandas as pd\n",
    "from gurobipy import *"
   ]
  },
  {
   "cell_type": "code",
   "execution_count": 3,
   "metadata": {},
   "outputs": [],
   "source": [
    "# I. Cloud Computing"
   ]
  },
  {
   "cell_type": "code",
   "execution_count": 4,
   "metadata": {},
   "outputs": [],
   "source": [
    "# Data Loading \n",
    "cpu_cap = 512\n",
    "mem_cap = 1024\n",
    "gpu_cap = 64\n",
    "\n",
    "names = ['C1','C2','C3','M1','M2','M3','G1','G2','G3']\n",
    "\n",
    "cpu = np.array([16, 32, 64, 8, 16, 32, 16, 32, 64])\n",
    "mem = np.array([8, 16, 32, 32, 64, 128, 16, 32, 64])\n",
    "gpu = np.array([1, 1, 1, 1, 1, 1, 2, 6, 8])\n",
    "\n",
    "price = np.array([7, 12, 24, 22, 44, 88, 30, 90, 120])\n",
    "rate = np.array([5.0, 5.0, 1.8, 3.0, 2.6, 1.0, 0.8, 0.4, 0.3])\n",
    "\n",
    "T = 5\n",
    "\n",
    "nInstances = len(cpu)\n",
    "forecast = T * rate"
   ]
  },
  {
   "cell_type": "code",
   "execution_count": 5,
   "metadata": {},
   "outputs": [],
   "source": [
    "# Question 1. Part 2\n",
    "# Solving the simple model"
   ]
  },
  {
   "cell_type": "code",
   "execution_count": 6,
   "metadata": {},
   "outputs": [
    {
     "name": "stdout",
     "output_type": "stream",
     "text": [
      "Using license file /Users/tigranmargarian/gurobi.lic\n",
      "Academic license - for non-commercial use only\n",
      "Gurobi Optimizer version 9.0.2 build v9.0.2rc0 (mac64)\n",
      "Optimize a model with 3 rows, 9 columns and 27 nonzeros\n",
      "Model fingerprint: 0xc72eae64\n",
      "Coefficient statistics:\n",
      "  Matrix range     [1e+00, 1e+02]\n",
      "  Objective range  [7e+00, 1e+02]\n",
      "  Bounds range     [2e+00, 2e+01]\n",
      "  RHS range        [6e+01, 1e+03]\n",
      "Presolve removed 0 rows and 1 columns\n",
      "Presolve time: 0.00s\n",
      "Presolved: 3 rows, 8 columns, 24 nonzeros\n",
      "\n",
      "Iteration    Objective       Primal Inf.    Dual Inf.      Time\n",
      "       0    1.4400000e+03   7.200000e+01   0.000000e+00      0s\n",
      "       3    1.0394286e+03   0.000000e+00   0.000000e+00      0s\n",
      "\n",
      "Solved in 3 iterations and 0.01 seconds\n",
      "Optimal objective  1.039428571e+03\n"
     ]
    }
   ],
   "source": [
    "# Creating the model\n",
    "m = Model()\n",
    "\n",
    "# Creating decision variables \n",
    "x = m.addVars(nInstances, lb = 0, ub = forecast)\n",
    "\n",
    "# Creating the capacity constraints:\n",
    "# CPU constraint\n",
    "cpu_constr = m.addConstr(sum(cpu[i] * x[i] for i in range(nInstances)) <= cpu_cap)\n",
    "\n",
    "# Memorty constraint \n",
    "mem_constr = m.addConstr(sum(mem[i] * x[i] for i in range(nInstances)) <= mem_cap)\n",
    "\n",
    "# GPU constraint\n",
    "gpu_constr = m.addConstr(sum(gpu[i] * x[i] for i in range(nInstances)) <= gpu_cap)\n",
    "\n",
    "# Setting the objective function\n",
    "m.setObjective(sum(price[i] * x[i] for i in range(nInstances)), GRB.MAXIMIZE)\n",
    "\n",
    "# Update + solve:\n",
    "m.update()\n",
    "m.optimize()"
   ]
  },
  {
   "cell_type": "code",
   "execution_count": 7,
   "metadata": {},
   "outputs": [
    {
     "name": "stdout",
     "output_type": "stream",
     "text": [
      "Optimized revenue equals $1039.43\n"
     ]
    }
   ],
   "source": [
    "print(f'Optimized revenue equals ${round(m.objval,2)}')"
   ]
  },
  {
   "cell_type": "code",
   "execution_count": 8,
   "metadata": {},
   "outputs": [
    {
     "name": "stdout",
     "output_type": "stream",
     "text": [
      "Requests accepted\n",
      "C1: 6.29\n",
      "C2: 0.0\n",
      "C3: 0.0\n",
      "M1: 3.43\n",
      "M2: 0.0\n",
      "M3: 5.0\n",
      "G1: 4.0\n",
      "G2: 2.0\n",
      "G3: 1.5\n"
     ]
    }
   ],
   "source": [
    "print('Requests accepted')\n",
    "for i in range(nInstances):\n",
    "    print(f'{names[i]}: {round(x[i].x,2)}')"
   ]
  },
  {
   "cell_type": "code",
   "execution_count": 9,
   "metadata": {},
   "outputs": [
    {
     "name": "stdout",
     "output_type": "stream",
     "text": [
      "17.29 of GPU capacity is still available!\n"
     ]
    }
   ],
   "source": [
    "print(f'{round(gpu_constr.slack,2)} of GPU capacity is still available!')"
   ]
  },
  {
   "cell_type": "code",
   "execution_count": 10,
   "metadata": {},
   "outputs": [
    {
     "name": "stdout",
     "output_type": "stream",
     "text": [
      "That addition would bring $9.0 of revenue!\n"
     ]
    }
   ],
   "source": [
    "print(f'That addition would bring '\n",
    "      f'${32*cpu_constr.pi + 16*mem_constr.pi - 5} of revenue!') "
   ]
  },
  {
   "cell_type": "code",
   "execution_count": 11,
   "metadata": {},
   "outputs": [],
   "source": [
    "# Question 1. Part 3\n",
    "# Simulating current practice"
   ]
  },
  {
   "cell_type": "code",
   "execution_count": 12,
   "metadata": {},
   "outputs": [],
   "source": [
    "# Preconditions:\n",
    "# nSimulations = integer specifying number of simulations to run\n",
    "# rates = array containing arrival rate (# / day) for each of the instance\n",
    "# types (should be an array with 9 elements)\n",
    "# T = length of horizon in days.\n",
    "\n",
    "def generateArrivalSequences( nSimulations, rates, T ):\n",
    "    total_rate = sum(rates)\n",
    "    nTypes = len(rates)\n",
    "\n",
    "    arrival_sequences_times = []\n",
    "    arrival_sequences_types = [];\n",
    "\n",
    "    for s in range(nSimulations):\n",
    "        single_arrival_sequence_time = [];\n",
    "        single_arrival_sequence_type = [];\n",
    "        t = 0;\n",
    "        while (t < T):\n",
    "            single_time = np.random.exponential(1.0/total_rate)\n",
    "            single_type = np.random.choice(nTypes, p= rates/total_rate )\n",
    "\n",
    "            t += single_time;\n",
    "\n",
    "            if (t < T):\n",
    "                single_arrival_sequence_time.append(t)\n",
    "                single_arrival_sequence_type.append(single_type)\n",
    "            else:\n",
    "                break\n",
    "\n",
    "        arrival_sequences_times.append(np.array(single_arrival_sequence_time))\n",
    "        arrival_sequences_types.append(np.array(single_arrival_sequence_type))\n",
    "    return arrival_sequences_times, arrival_sequences_types\n",
    "\n",
    "\n",
    "\n",
    "# # Code to test out above function\n",
    "# np.random.seed(1)\n",
    "# nSimulations_test = 100\n",
    "# rates_test = np.array([5.0, 2.0, 3.0])\n",
    "# T_test = 8\n",
    "# x, y = generateArrivalSequences(nSimulations_test, rates_test, T_test)\n",
    "\n",
    "# # If code above is working correctly, code below should show\n",
    "# # value of 80.71:\n",
    "# counts = np.array([len(y[i]) for i in range(nSimulations_test)] )\n",
    "# counts.mean()"
   ]
  },
  {
   "cell_type": "code",
   "execution_count": 13,
   "metadata": {},
   "outputs": [],
   "source": [
    "np.random.seed(10)\n",
    "nSimulations = 100\n",
    "arr_times,arr_types = generateArrivalSequences(nSimulations, rate, T)"
   ]
  },
  {
   "cell_type": "code",
   "execution_count": 14,
   "metadata": {},
   "outputs": [],
   "source": [
    "ind_arrivals = np.zeros([nSimulations, nInstances])\n",
    "for seq in range(nSimulations):\n",
    "    for arrival in arr_types[seq]:\n",
    "        ind_arrivals[seq][arrival] += 1"
   ]
  },
  {
   "cell_type": "code",
   "execution_count": 15,
   "metadata": {},
   "outputs": [],
   "source": [
    "avg_arrivals = ind_arrivals.mean(axis=0)"
   ]
  },
  {
   "cell_type": "code",
   "execution_count": 16,
   "metadata": {},
   "outputs": [
    {
     "name": "stdout",
     "output_type": "stream",
     "text": [
      "The average number of arrivals of C1 instance equals 26.63\n",
      "The average number of arrivals of C2 instance equals 24.38\n",
      "The average number of arrivals of C3 instance equals 9.01\n",
      "The average number of arrivals of M1 instance equals 14.88\n",
      "The average number of arrivals of M2 instance equals 13.32\n",
      "The average number of arrivals of M3 instance equals 4.93\n",
      "The average number of arrivals of G1 instance equals 4.2\n",
      "The average number of arrivals of G2 instance equals 2.27\n",
      "The average number of arrivals of G3 instance equals 1.38\n"
     ]
    }
   ],
   "source": [
    "for i in range(nInstances):\n",
    "    print(f'The average number of arrivals of {names[i]} instance equals '\n",
    "          f'{avg_arrivals[i]}')"
   ]
  },
  {
   "cell_type": "code",
   "execution_count": 17,
   "metadata": {},
   "outputs": [
    {
     "name": "stdout",
     "output_type": "stream",
     "text": [
      "The average nubmer of arrivals for all types is equal to 101.0\n"
     ]
    }
   ],
   "source": [
    "print(f'The average nubmer of arrivals for all types '\n",
    "      f'is equal to {ind_arrivals.sum(axis=1).mean()}')"
   ]
  },
  {
   "cell_type": "code",
   "execution_count": 18,
   "metadata": {},
   "outputs": [
    {
     "name": "stdout",
     "output_type": "stream",
     "text": [
      "The total forecast for all types is equal to 99.5\n"
     ]
    }
   ],
   "source": [
    "print(f'The total forecast for all types is equal to {sum(forecast)}')"
   ]
  },
  {
   "cell_type": "code",
   "execution_count": 19,
   "metadata": {},
   "outputs": [
    {
     "name": "stdout",
     "output_type": "stream",
     "text": [
      "The correlation between rates and average arrivals is almost perfect\n",
      "[[1.         0.99797483]\n",
      " [0.99797483 1.        ]]\n"
     ]
    }
   ],
   "source": [
    "print(f'The correlation between rates and average arrivals is '\n",
    "      f'almost perfect')\n",
    "print(np.corrcoef(rate,avg_arrivals))"
   ]
  },
  {
   "cell_type": "code",
   "execution_count": 20,
   "metadata": {},
   "outputs": [],
   "source": [
    "# Preconditions for code below:\n",
    "# nSimulations = number of simulations to run\n",
    "# nResources = number of different types of resources (= 3)\n",
    "# B = numpy array of initial capacities of the resources\n",
    "# arrival_sequences_times = array where each entry is arrival time sequence for that\n",
    "# simulation\n",
    "# arrival_sequences_types = array where each entry is sequence of request types for\n",
    "# that simulation\n",
    "nResources = 3\n",
    "B = np.array([cpu_cap, mem_cap, gpu_cap])\n",
    "# Note: code will not run; parts with ... need to be filled in.\n",
    "\n",
    "results_myopic_revenue = np.zeros(nSimulations)\n",
    "results_myopic_remaining_capacity = np.zeros([nResources, nSimulations])\n",
    "\n",
    "for s in range(nSimulations):\n",
    "    b = B.copy();\n",
    "    single_revenue = 0.0; # will contain the revenue of this simulation\n",
    "    nArrivals = len(arr_times[s]);\n",
    "\n",
    "    # Go through the arrivals in sequence\n",
    "    for j in range(nArrivals):\n",
    "        # Obtain the time of the arrival, and its type (i)\n",
    "        arrival_time = arr_times[s][j]\n",
    "        i = arr_types[s][j]\n",
    "\n",
    "        # Check if there is sufficient capacity for the request\n",
    "        if ( b[0] >= cpu[i] and b[1] >= mem[i] and b[2] >= gpu[i]  ):\n",
    "            # If there is sufficient capacity, accrue the revenue\n",
    "            # and remove the capacity.\n",
    "            single_revenue += price[i]\n",
    "            b[0] -= cpu[i]\n",
    "            b[1] -= mem[i]\n",
    "            b[2] -= gpu[i]\n",
    "\n",
    "    # Save the results of this simulation here ...\n",
    "    results_myopic_revenue[s] = single_revenue\n",
    "    results_myopic_remaining_capacity[:,s] = b\n",
    "\n",
    "# Find the average revenue\n",
    "mean_myopic_revenue = results_myopic_revenue.mean()\n",
    "# Find the average remaining quantity of each resource\n",
    "mean_myopic_remaining_capacity = results_myopic_remaining_capacity.mean(axis = 1)"
   ]
  },
  {
   "cell_type": "code",
   "execution_count": 21,
   "metadata": {},
   "outputs": [
    {
     "name": "stdout",
     "output_type": "stream",
     "text": [
      "The average revenue generated when following \n",
      "the myopic strategy is $528.28\n"
     ]
    }
   ],
   "source": [
    "print(f'The average revenue generated when following \\n'\n",
    "      f'the myopic strategy is ${mean_myopic_revenue}')"
   ]
  },
  {
   "cell_type": "code",
   "execution_count": 22,
   "metadata": {},
   "outputs": [
    {
     "name": "stdout",
     "output_type": "stream",
     "text": [
      "The remaining CPU capacity is 0.24\n",
      "The remaining Memory capacity is 371.52\n",
      "The remaining GPU capacity is 37.42\n"
     ]
    }
   ],
   "source": [
    "cap_names = [\"CPU\", \"Memory\", \"GPU\"]\n",
    "for i in range(len(mean_myopic_remaining_capacity)):\n",
    "    print(f'The remaining {cap_names[i]} capacity is '\n",
    "          f'{mean_myopic_remaining_capacity[i]}')"
   ]
  },
  {
   "cell_type": "code",
   "execution_count": 23,
   "metadata": {},
   "outputs": [],
   "source": [
    "# Question 1. Part 4\n",
    "# A bid-price control policy"
   ]
  },
  {
   "cell_type": "code",
   "execution_count": 24,
   "metadata": {},
   "outputs": [],
   "source": [
    "# Preconditions for code below:\n",
    "# nSimulations = number of simulations to run\n",
    "# nResources = number of different types of resources (= 3)\n",
    "# B = numpy array of initial capacities of the resources\n",
    "# arrival_sequences_times = array where each entry is arrival time sequence for that\n",
    "# simulation\n",
    "# arrival_sequences_types = array where each entry is sequence of request types for\n",
    "# that simulation\n",
    "\n",
    "# Your LP formulation should be defined here\n",
    "# (or somewhere before the definition of bpc()...)\n",
    "# ...\n",
    "\n",
    "constrs = [cpu_constr,mem_constr,gpu_constr]\n",
    "# Set the OutputFlag parameter to 0 to disable logging\n",
    "m.Params.outputflag = 0\n",
    "\n",
    "# As we did in-class, define a function bpc() to re-solve the LO each time:\n",
    "\n",
    "def bpc(b, t):\n",
    "    \n",
    "#     for r in range(nResources):\n",
    "#         # Set the RHS of the resource constraint to b[r] here\n",
    "#         constrs[r].rhs = b[r]\n",
    "    cpu_constr.rhs = b[0]\n",
    "    mem_constr.rhs = b[1]\n",
    "    gpu_constr.rhs = b[2]\n",
    "\n",
    "    for i in range(nInstances):\n",
    "        # Set the RHS of the forecast constraint for each instance\n",
    "        # type to the expected number of requests over the duration\n",
    "        # of the remaining horizon (T - t).\n",
    "        x[i].ub = (T - t)*rate[i]\n",
    "\n",
    "    # Re-solve the model:\n",
    "    m.update()\n",
    "    m.optimize()\n",
    "\n",
    "    # Obtain the dual values/shadow prices\n",
    "    dual_val = [cpu_constr.pi,mem_constr.pi,gpu_constr.pi]\n",
    "\n",
    "    # Return the dual values:\n",
    "    return dual_val"
   ]
  },
  {
   "cell_type": "code",
   "execution_count": 25,
   "metadata": {
    "scrolled": false
   },
   "outputs": [],
   "source": [
    "results_revenue = np.zeros(nSimulations)\n",
    "results_remaining_capacity = np.zeros([nResources, nSimulations])\n",
    "B = np.array([cpu_cap, mem_cap, gpu_cap])\n",
    "\n",
    "for s in range(nSimulations):\n",
    "    b = B.copy() #Initialize the current capacity\n",
    "    single_revenue = 0.0 #Initialize the revenue garnered in this simulation\n",
    "    nArrivals = len(arr_times[s])\n",
    "    for j in range(nArrivals):\n",
    "        # Take the next arrival time and type from the sequence\n",
    "        arrival_time = arr_times[s][j]\n",
    "        i = arr_types[s][j]\n",
    "\n",
    "        # Check if there is enough capacity\n",
    "        if (  b[0] >= cpu[i] and b[1] >= mem[i] and b[2] >= gpu[i] ):\n",
    "            # Re-solve the LP and obtain the dual values\n",
    "            dual_val = bpc(b, arrival_time)\n",
    "            \n",
    "\n",
    "\n",
    "            # Check if the revenue is at least the sum of the bid prices:\n",
    "            if ( price[i] >= dual_val[0]*cpu[i] + dual_val[1]*mem[i] + dual_val[2]*gpu[i] ):\n",
    "                # If there is sufficient capacity, accrue the revenue\n",
    "                # and remove the capacity.\n",
    "                single_revenue += price[i]\n",
    "                b[0] -= cpu[i]\n",
    "                b[1] -= mem[i]\n",
    "                b[2] -= gpu[i]\n",
    "   \n",
    "    # Save the results of this simulation here:\n",
    "    results_revenue[s] = single_revenue\n",
    "    results_remaining_capacity[:,s] = b\n",
    "\n",
    "\n",
    "# Find the average revenue:\n",
    "mean_LP_revenue = results_revenue.mean()\n",
    "# Find the average remaining quantity of each resource\n",
    "mean_LP_remaining_capacity = results_remaining_capacity.mean(axis = 1)"
   ]
  },
  {
   "cell_type": "code",
   "execution_count": 26,
   "metadata": {},
   "outputs": [
    {
     "name": "stdout",
     "output_type": "stream",
     "text": [
      "The average revenue generated when following \n",
      "the bid-price control strategy is $925.59\n"
     ]
    }
   ],
   "source": [
    "print(f'The average revenue generated when following \\n'\n",
    "      f'the bid-price control strategy is ${mean_LP_revenue}')"
   ]
  },
  {
   "cell_type": "code",
   "execution_count": 27,
   "metadata": {},
   "outputs": [
    {
     "name": "stdout",
     "output_type": "stream",
     "text": [
      "The remaining CPU capacity is 27.2\n",
      "The remaining Memory capacity is 4.88\n",
      "The remaining GPU capacity is 20.62\n"
     ]
    }
   ],
   "source": [
    "for i in range(len(mean_LP_remaining_capacity)):\n",
    "    print(f'The remaining {cap_names[i]} capacity is '\n",
    "          f'{mean_LP_remaining_capacity[i]}')"
   ]
  },
  {
   "cell_type": "code",
   "execution_count": 28,
   "metadata": {},
   "outputs": [],
   "source": [
    "# II. Designing a Sushi Menu"
   ]
  },
  {
   "cell_type": "code",
   "execution_count": 3,
   "metadata": {},
   "outputs": [],
   "source": [
    "# Data Loading \n",
    "utilities_df = pd.read_csv(\"sushi_utilities_mat.csv\", header=None)"
   ]
  },
  {
   "cell_type": "code",
   "execution_count": 4,
   "metadata": {},
   "outputs": [],
   "source": [
    "info_df = pd.read_csv('sushi_info.csv', header=None)\n",
    "info_df.columns = ['Type', 'Cat. Code', 'Price']"
   ]
  },
  {
   "cell_type": "code",
   "execution_count": 5,
   "metadata": {},
   "outputs": [],
   "source": [
    "# Question 2. Part 1\n",
    "# Understanding the data"
   ]
  },
  {
   "cell_type": "code",
   "execution_count": 6,
   "metadata": {},
   "outputs": [],
   "source": [
    "# a) Customer 1 top-5 sushis"
   ]
  },
  {
   "cell_type": "code",
   "execution_count": 7,
   "metadata": {},
   "outputs": [],
   "source": [
    "args = np.flip(np.argsort(utilities_df.iloc[0,:]))[:5].values"
   ]
  },
  {
   "cell_type": "code",
   "execution_count": 8,
   "metadata": {},
   "outputs": [
    {
     "name": "stdout",
     "output_type": "stream",
     "text": [
      "For customer 1 the top 5 sushis are:\n",
      "Sushi type: negi_toro ; Type #: 38 ; Utility: 2.911 ; Category Code: 1         \n",
      "Sushi type: ika       ; Type #: 4  ; Utility: 2.808 ; Category Code: 5         \n",
      "Sushi type: maguro    ; Type #: 3  ; Utility: 2.806 ; Category Code: 1         \n",
      "Sushi type: samon     ; Type #: 16 ; Utility: 2.772 ; Category Code: 1         \n",
      "Sushi type: inari     ; Type #: 44 ; Utility: 2.751 ; Category Code: 11        \n"
     ]
    }
   ],
   "source": [
    "print(f'For customer 1 the top 5 sushis are:')\n",
    "for i in range(5):\n",
    "    print(f'Sushi type: {info_df.iloc[args[i],0]:<10}; '\n",
    "          f'Type #: {args[i]+1:<3}; '\n",
    "          f'Utility: {np.round(utilities_df.iloc[0,args[i]],3):<6}; '\n",
    "          f'Category Code: {info_df.iloc[args[i],1]:<10}')\n"
   ]
  },
  {
   "cell_type": "code",
   "execution_count": 9,
   "metadata": {},
   "outputs": [],
   "source": [
    "# b) Customer 2 worst 5 sushis"
   ]
  },
  {
   "cell_type": "code",
   "execution_count": 10,
   "metadata": {},
   "outputs": [],
   "source": [
    "args = np.argsort(utilities_df.iloc[1,:])[:5].values"
   ]
  },
  {
   "cell_type": "code",
   "execution_count": 11,
   "metadata": {},
   "outputs": [
    {
     "name": "stdout",
     "output_type": "stream",
     "text": [
      "For customer 2 the worst 5 sushis are:\n",
      "Sushi type: karasumi       ; Type #: 94 ; Utility: -0.404; Category Code: 7         \n",
      "Sushi type: komochi_konbu  ; Type #: 50 ; Utility: -0.317; Category Code: 7         \n",
      "Sushi type: kyabia         ; Type #: 93 ; Utility: -0.258; Category Code: 7         \n",
      "Sushi type: awabi          ; Type #: 15 ; Utility: -0.257; Category Code: 4         \n",
      "Sushi type: kazunoko       ; Type #: 17 ; Utility: -0.231; Category Code: 7         \n"
     ]
    }
   ],
   "source": [
    "print(f'For customer 2 the worst 5 sushis are:')\n",
    "for i in range(5):\n",
    "    print(f'Sushi type: {info_df.iloc[args[i],0]:<15}; '\n",
    "          f'Type #: {args[i]+1:<3}; '\n",
    "          f'Utility: {np.round(utilities_df.iloc[1,args[i]],3):<6}; '\n",
    "          f'Category Code: {info_df.iloc[args[i],1]:<10}')\n"
   ]
  },
  {
   "cell_type": "code",
   "execution_count": 38,
   "metadata": {},
   "outputs": [],
   "source": [
    "# c) best 5 sushis overall"
   ]
  },
  {
   "cell_type": "code",
   "execution_count": 39,
   "metadata": {},
   "outputs": [],
   "source": [
    "# Ranking sushis for each customer\n",
    "# Rank[i,j] == 1 if (j+1)-th sushi is the best for (i+1)-th customer\n",
    "# Rank[i,j] == 100 if (j+1)-th sushi is the worst for (i+1)-th customer\n",
    "ranks = np.zeros(utilities_df.shape)\n",
    "\n",
    "for i in range(utilities_df.shape[0]):\n",
    "    ranks[i,:] = np.argsort(np.flip(np.argsort(utilities_df.iloc[i,:]))) + 1\n",
    "\n",
    "avg_ranks = ranks.mean(axis=0)\n",
    "args = np.argsort(avg_ranks)[:5]"
   ]
  },
  {
   "cell_type": "code",
   "execution_count": 40,
   "metadata": {},
   "outputs": [
    {
     "name": "stdout",
     "output_type": "stream",
     "text": [
      "The best 5 sushis by average ranking are:\n",
      "Sushi type: negi_toro      ; Type #: 38 ; Avg. Ranking: 7.876 ; Category Code: 1         \n",
      "Sushi type: maguro         ; Type #: 3  ; Avg. Ranking: 10.05 ; Category Code: 1         \n",
      "Sushi type: kurumaebi      ; Type #: 80 ; Avg. Ranking: 10.084; Category Code: 6         \n",
      "Sushi type: negi_toro_maki ; Type #: 62 ; Avg. Ranking: 10.214; Category Code: 1         \n",
      "Sushi type: ebi            ; Type #: 1  ; Avg. Ranking: 11.932; Category Code: 6         \n"
     ]
    }
   ],
   "source": [
    "print(f'The best 5 sushis by average ranking are:')\n",
    "for i in range(5):\n",
    "    print(f'Sushi type: {info_df.iloc[args[i],0]:<15}; '\n",
    "          f'Type #: {args[i]+1:<3}; '\n",
    "          f'Avg. Ranking: {np.round(avg_ranks[args[i]],3):<6}; '\n",
    "          f'Category Code: {info_df.iloc[args[i],1]:<10}')"
   ]
  },
  {
   "cell_type": "code",
   "execution_count": 41,
   "metadata": {},
   "outputs": [],
   "source": [
    "# d) the worst sushi"
   ]
  },
  {
   "cell_type": "code",
   "execution_count": 42,
   "metadata": {},
   "outputs": [],
   "source": [
    "args = np.argsort(avg_ranks)[-1]"
   ]
  },
  {
   "cell_type": "code",
   "execution_count": 43,
   "metadata": {},
   "outputs": [
    {
     "name": "stdout",
     "output_type": "stream",
     "text": [
      "The worst sushi by average ranking is:\n",
      "\n",
      "Sushi type: kyabia \n",
      "Type #: 93 \n",
      "Avg. Ranking: 90.648\n",
      "Category Code: 7         \n"
     ]
    }
   ],
   "source": [
    "print(f'The worst sushi by average ranking is:\\n')\n",
    "print(f'Sushi type: {info_df.iloc[args,0]:<7}\\n'\n",
    "      f'Type #: {args+1:<3}\\n'\n",
    "      f'Avg. Ranking: {np.round(avg_ranks[args],3):<6}\\n'\n",
    "      f'Category Code: {info_df.iloc[args,1]:<10}')"
   ]
  },
  {
   "cell_type": "code",
   "execution_count": 44,
   "metadata": {},
   "outputs": [],
   "source": [
    "# e) the most controversial sushi"
   ]
  },
  {
   "cell_type": "code",
   "execution_count": 45,
   "metadata": {},
   "outputs": [],
   "source": [
    "sds = ranks.std(axis=0)\n",
    "args = np.argsort(sds)[-1]"
   ]
  },
  {
   "cell_type": "code",
   "execution_count": 46,
   "metadata": {},
   "outputs": [
    {
     "name": "stdout",
     "output_type": "stream",
     "text": [
      "The most controversial sushi by ranking SD is:\n",
      "\n",
      "Sushi type: awabi   \n",
      "Type #: 15 \n",
      "Ranking SD: 27.439\n",
      "Avg. Ranking: 62.592\n",
      "Category Code: 4         \n"
     ]
    }
   ],
   "source": [
    "print(f'The most controversial sushi by ranking SD is:\\n')\n",
    "print(f'Sushi type: {info_df.iloc[args,0]:<7} \\n'\n",
    "      f'Type #: {args+1:<3}\\n'\n",
    "      f'Ranking SD: {np.round(sds[args],3):<6}\\n'\n",
    "      f'Avg. Ranking: {np.round(avg_ranks[args],3):<6}\\n'\n",
    "      f'Category Code: {info_df.iloc[args,1]:<10}')"
   ]
  },
  {
   "cell_type": "code",
   "execution_count": 47,
   "metadata": {},
   "outputs": [],
   "source": [
    "# Question 2. Part 2\n",
    "# Common-sense Solutions"
   ]
  },
  {
   "cell_type": "code",
   "execution_count": 48,
   "metadata": {},
   "outputs": [],
   "source": [
    "# Adding no-choice information"
   ]
  },
  {
   "cell_type": "code",
   "execution_count": 12,
   "metadata": {},
   "outputs": [],
   "source": [
    "nCustomers = utilities_df.shape[0]\n",
    "nProducts = utilities_df.shape[1]\n",
    "\n",
    "nonpurchase_utility = 3\n",
    "nonpurchase_utilities = np.ones(utilities_df.shape[0])*nonpurchase_utility"
   ]
  },
  {
   "cell_type": "code",
   "execution_count": 13,
   "metadata": {},
   "outputs": [],
   "source": [
    "utilities_df = pd.concat([utilities_df, pd.DataFrame(nonpurchase_utilities, \n",
    "                                                       columns=['100'])], \n",
    "                          axis=1)\n"
   ]
  },
  {
   "cell_type": "code",
   "execution_count": 14,
   "metadata": {},
   "outputs": [],
   "source": [
    "info_df = info_df.append(pd.DataFrame(data=[['no choice', None, 0.0]], \n",
    "                                      columns=info_df.columns,\n",
    "                                      index=[info_df.shape[0]]))"
   ]
  },
  {
   "cell_type": "code",
   "execution_count": 15,
   "metadata": {},
   "outputs": [],
   "source": [
    "# Function to compute expected revenue\n",
    "# S - the product line, represented as an array of integers\n",
    "# Precondition: S is an array of integers containing only numbers between 0 and 99, with no repetitions.\n",
    "def expected_profit(S):\n",
    "    # Add the no-purchase option:\n",
    "    # NB: the products are numbered from 0 to 99. Index 100 ( = nProducts) will correspond to the no-purchase option. \n",
    "    S2 = np.append(S, nProducts)\n",
    "    \n",
    "    choice_probabilities = {}\n",
    "    for i in S2:\n",
    "        choice_probabilities[i] = 0.0;\n",
    "    \n",
    "    for k in range(nCustomers):  \n",
    "        ind = np.argmax( utilities_df.values[k,S2])\n",
    "        choice_probabilities[ S2[ind] ] += 1.0/nCustomers\n",
    "        \n",
    "    exp_revenue = sum( [choice_probabilities[i] * info_df.iloc[i,2] for i in S])\n",
    "        \n",
    "    return exp_revenue, choice_probabilities"
   ]
  },
  {
   "cell_type": "code",
   "execution_count": 17,
   "metadata": {},
   "outputs": [
    {
     "data": {
      "text/plain": [
       "(14.239620000000011,\n",
       " {0: 0.2700000000000002,\n",
       "  1: 0.05200000000000003,\n",
       "  2: 0.4200000000000003,\n",
       "  3: 0.04200000000000002,\n",
       "  4: 0.10000000000000007,\n",
       "  100: 0.11600000000000009})"
      ]
     },
     "execution_count": 17,
     "metadata": {},
     "output_type": "execute_result"
    }
   ],
   "source": [
    "expected_profit( [0,1,2,3,4] )"
   ]
  },
  {
   "cell_type": "code",
   "execution_count": 16,
   "metadata": {},
   "outputs": [],
   "source": [
    "# Testing the function on product set of {1,2,3,4,5}\n",
    "# Expected per-customer revenue is 14.2396\n",
    "exp_profit, choice_probabilities = expected_profit( [0,1,2,3,4] )"
   ]
  },
  {
   "cell_type": "code",
   "execution_count": 54,
   "metadata": {},
   "outputs": [
    {
     "name": "stdout",
     "output_type": "stream",
     "text": [
      "Expected per-customer revenue equals $14.24\n"
     ]
    }
   ],
   "source": [
    "print(f'Expected per-customer revenue equals ${np.round(exp_profit,2)}')"
   ]
  },
  {
   "cell_type": "code",
   "execution_count": 55,
   "metadata": {},
   "outputs": [],
   "source": [
    "# a) Offering everything"
   ]
  },
  {
   "cell_type": "code",
   "execution_count": 56,
   "metadata": {},
   "outputs": [
    {
     "name": "stdout",
     "output_type": "stream",
     "text": [
      "Expected profit (offer everything): $21.51\n"
     ]
    }
   ],
   "source": [
    "S_all = np.array([i for i in range(nProducts)])\n",
    "exp_profit_all, choice_probabilities_all = expected_profit( S_all )\n",
    "print(f\"Expected profit (offer everything): ${round(exp_profit_all,2)}\")"
   ]
  },
  {
   "cell_type": "code",
   "execution_count": 57,
   "metadata": {},
   "outputs": [],
   "source": [
    "# b) Offering the 10 highest revenue sushis"
   ]
  },
  {
   "cell_type": "code",
   "execution_count": 58,
   "metadata": {},
   "outputs": [
    {
     "name": "stdout",
     "output_type": "stream",
     "text": [
      "Sushi type: toro      ; Price: 35.88     \n",
      "Sushi type: awabi     ; Price: 29.17     \n",
      "Sushi type: tarabagani; Price: 27.32     \n",
      "Sushi type: akagai    ; Price: 26.66     \n",
      "Sushi type: uni       ; Price: 26.3      \n",
      "Sushi type: kurumaebi ; Price: 25.6      \n",
      "Sushi type: chu_toro  ; Price: 25.34     \n",
      "Sushi type: suzuki    ; Price: 25.07     \n",
      "Sushi type: hirame    ; Price: 24.55     \n",
      "Sushi type: botanebi  ; Price: 24.38     \n"
     ]
    }
   ],
   "source": [
    "S_mostrev = np.flip(np.argsort(info_df.values[:,2]))[:10]\n",
    "for i in range(len(S_mostrev)):\n",
    "    print(f'Sushi type: {info_df.iloc[S_mostrev[i],0]:<10}; '\n",
    "          f'Price: {info_df.iloc[S_mostrev[i],2]:<10}')"
   ]
  },
  {
   "cell_type": "code",
   "execution_count": 59,
   "metadata": {},
   "outputs": [
    {
     "name": "stdout",
     "output_type": "stream",
     "text": [
      "Expected profit (offer most expensive): $25.64\n"
     ]
    }
   ],
   "source": [
    "exp_profit_mostrev, choice_probabilities_mostrev = expected_profit( S_mostrev )\n",
    "print(f\"Expected profit (offer most expensive): ${round(exp_profit_mostrev,2)}\")"
   ]
  },
  {
   "cell_type": "code",
   "execution_count": 60,
   "metadata": {},
   "outputs": [],
   "source": [
    "# c) Offering the most preferred sushi "
   ]
  },
  {
   "cell_type": "code",
   "execution_count": 61,
   "metadata": {},
   "outputs": [
    {
     "name": "stdout",
     "output_type": "stream",
     "text": [
      "Expected profit (offer most preferred): $21.51\n"
     ]
    }
   ],
   "source": [
    "# Use numpy's function argmax to obtain the element with the highest value.\n",
    "# Note: 0:nProducts will leave out column nProducts (= 100, which is where we are storing\n",
    "# the no-purchase option.)\n",
    "S_mostpref = np.argmax(utilities_df.values[:,0:nProducts], axis = 1)\n",
    "# print(S_mostpref)\n",
    "S_mostpref = np.unique(S_mostpref)\n",
    "\n",
    "exp_profit_mostpref, choice_probabilities_mostpref = expected_profit( S_mostpref )\n",
    "print(f\"Expected profit (offer most preferred): ${round(exp_profit_mostpref,2)}\")"
   ]
  },
  {
   "cell_type": "code",
   "execution_count": 62,
   "metadata": {},
   "outputs": [],
   "source": [
    "# Question 2. Part 3\n",
    "# An integer optimization model"
   ]
  },
  {
   "cell_type": "code",
   "execution_count": 63,
   "metadata": {},
   "outputs": [],
   "source": [
    "# Implementation of the linear relaxation"
   ]
  },
  {
   "cell_type": "code",
   "execution_count": 64,
   "metadata": {},
   "outputs": [
    {
     "name": "stdout",
     "output_type": "stream",
     "text": [
      "Creating constraints:\n",
      "Creating objective:\n",
      "Update completed\n"
     ]
    }
   ],
   "source": [
    "m = Model()\n",
    "m.Params.outputflag = 0\n",
    "# Create the decision variables\n",
    "x = m.addVars(nProducts, lb = 0, ub = 1)\n",
    "y = m.addVars(nCustomers, nProducts+1, lb = 0, ub = 1)\n",
    "\n",
    "# Create the constraints:\n",
    "print(\"Creating constraints:\")\n",
    "for k in range(nCustomers):\n",
    "    m.addConstr( sum(y[k,i] for i in range(nProducts+1)) == 1)\n",
    "    for i in range(nProducts):\n",
    "        m.addConstr( y[k,i] <= x[i] )\n",
    "        m.addConstr( quicksum( utilities_df.values[k,j] * y[k,j] for j in range(nProducts+1)) >= utilities_df.values[k,i] * x[i] + utilities_df.values[k,nProducts]*(1 - x[i]))\n",
    "    m.addConstr( quicksum( utilities_df.values[k,j] * y[k,j] for j in range(nProducts+1)) >= utilities_df.values[k,nProducts] )\n",
    "\n",
    "\n",
    "\n",
    "# Create the objective:\n",
    "print(\"Creating objective:\")\n",
    "m.setObjective( quicksum(info_df.iloc[i,2] * 1.0/nCustomers * y[k,i] for k in range(nCustomers) for i in range(nProducts)), GRB.MAXIMIZE)\n",
    "\n",
    "# Update and solve\n",
    "m.update()\n",
    "\n",
    "print(\"Update completed\")\n",
    "m.optimize()"
   ]
  },
  {
   "cell_type": "code",
   "execution_count": 65,
   "metadata": {},
   "outputs": [
    {
     "name": "stdout",
     "output_type": "stream",
     "text": [
      "The optimized revenue from LP relaxation equals to $30.59\n"
     ]
    }
   ],
   "source": [
    "print(f'The optimized revenue from LP relaxation '\n",
    "      f'equals to ${round(m.objval,2)}')"
   ]
  },
  {
   "cell_type": "code",
   "execution_count": 66,
   "metadata": {},
   "outputs": [],
   "source": [
    "# The integer version of the LP"
   ]
  },
  {
   "cell_type": "code",
   "execution_count": 67,
   "metadata": {
    "scrolled": false
   },
   "outputs": [
    {
     "name": "stdout",
     "output_type": "stream",
     "text": [
      "Creating constraints:\n",
      "Creating objective:\n",
      "Update completed\n"
     ]
    }
   ],
   "source": [
    "m = Model()\n",
    "m.Params.outputflag = 0\n",
    "# Create the decision variables\n",
    "x = m.addVars(nProducts, vtype = GRB.BINARY)\n",
    "y = m.addVars(nCustomers, nProducts+1, vtype = GRB.BINARY)\n",
    "\n",
    "# Create the constraints:\n",
    "print(\"Creating constraints:\")\n",
    "for k in range(nCustomers):\n",
    "    m.addConstr( sum(y[k,i] for i in range(nProducts+1)) == 1)\n",
    "    for i in range(nProducts):\n",
    "        m.addConstr( y[k,i] <= x[i] )\n",
    "        m.addConstr( quicksum( utilities_df.values[k,j] * y[k,j] for j in range(nProducts+1)) >= utilities_df.values[k,i] * x[i] + utilities_df.values[k,nProducts]*(1 - x[i]))\n",
    "    m.addConstr( quicksum( utilities_df.values[k,j] * y[k,j] for j in range(nProducts+1)) >= utilities_df.values[k,nProducts] )\n",
    "\n",
    "\n",
    "\n",
    "# Create the objective:\n",
    "print(\"Creating objective:\")\n",
    "m.setObjective( quicksum(info_df.iloc[i,2] * 1.0/nCustomers * y[k,i] for k in range(nCustomers) for i in range(nProducts)), GRB.MAXIMIZE)\n",
    "\n",
    "# Update and solve\n",
    "m.update()\n",
    "\n",
    "print(\"Update completed\")\n",
    "m.optimize()"
   ]
  },
  {
   "cell_type": "code",
   "execution_count": 68,
   "metadata": {},
   "outputs": [
    {
     "name": "stdout",
     "output_type": "stream",
     "text": [
      "The optimized revenue from integer LP equals to $26.24\n"
     ]
    }
   ],
   "source": [
    "print(f'The optimized revenue from integer LP '\n",
    "      f'equals to ${round(m.objval,2)}')"
   ]
  },
  {
   "cell_type": "code",
   "execution_count": 69,
   "metadata": {},
   "outputs": [],
   "source": [
    "menu = np.zeros(nProducts)\n",
    "for i in range(nProducts):\n",
    "    menu[i] = x[i].x"
   ]
  },
  {
   "cell_type": "code",
   "execution_count": 70,
   "metadata": {},
   "outputs": [],
   "source": [
    "args = np.where(menu == 1.0)[0]"
   ]
  },
  {
   "cell_type": "code",
   "execution_count": 71,
   "metadata": {},
   "outputs": [
    {
     "name": "stdout",
     "output_type": "stream",
     "text": [
      "Sushis chosen for the menu:\n",
      "\n",
      "Sushi type: toro           ;  Type #: 9  ;  Price: 35.88;  Avg. Ranking: 16.52 ;  Category Code: 1         \n",
      "Sushi type: awabi          ;  Type #: 15 ;  Price: 29.17;  Avg. Ranking: 62.592;  Category Code: 4         \n",
      "Sushi type: saba           ;  Type #: 19 ;  Price: 11.86;  Avg. Ranking: 47.296;  Category Code: 0         \n",
      "Sushi type: tarabagani     ;  Type #: 48 ;  Price: 27.32;  Avg. Ranking: 26.71 ;  Category Code: 6         \n",
      "Sushi type: mentaiko_maki  ;  Type #: 73 ;  Price: 10.0 ;  Avg. Ranking: 60.736;  Category Code: 7         \n",
      "Sushi type: ika_nattou     ;  Type #: 76 ;  Price: 8.73 ;  Avg. Ranking: 56.324;  Category Code: 5         \n",
      "Sushi type: tobiuo         ;  Type #: 88 ;  Price: 12.0 ;  Avg. Ranking: 72.828;  Category Code: 0         \n"
     ]
    }
   ],
   "source": [
    "print(f'Sushis chosen for the menu:\\n')\n",
    "for i in range(len(args)):\n",
    "    print(f'Sushi type: {info_df.iloc[args[i],0]:<15};  '\n",
    "          f'Type #: {args[i]+1:<3};  '\n",
    "          f'Price: {info_df.iloc[args[i],2]:<5};  '\n",
    "          f'Avg. Ranking: {np.round(avg_ranks[args[i]],3):<6};  '\n",
    "          f'Category Code: {info_df.iloc[args[i],1]:<10}')"
   ]
  },
  {
   "cell_type": "code",
   "execution_count": 72,
   "metadata": {},
   "outputs": [],
   "source": [
    "# Question 2. Part 4\n",
    "# A constrained model"
   ]
  },
  {
   "cell_type": "code",
   "execution_count": 73,
   "metadata": {},
   "outputs": [],
   "source": [
    "# Category variables (expluding non-purchase option)\n",
    "cat = info_df['Cat. Code'][:100].astype(int)"
   ]
  },
  {
   "cell_type": "code",
   "execution_count": 74,
   "metadata": {},
   "outputs": [],
   "source": [
    "# Number of represented categories (=12)\n",
    "nCat = len(np.unique(cat))"
   ]
  },
  {
   "cell_type": "code",
   "execution_count": 75,
   "metadata": {},
   "outputs": [],
   "source": [
    "# cats is a nProducts-by-nCat matrix where cats[i,c] == 1 \n",
    "# if the i-th sushi belongs to the category c\n",
    "\n",
    "cats = np.zeros([nProducts, nCat])\n",
    "for i in range(nProducts):\n",
    "    ind = cat[i]\n",
    "    cats[i,ind] += 1"
   ]
  },
  {
   "cell_type": "code",
   "execution_count": 76,
   "metadata": {},
   "outputs": [],
   "source": [
    "# category contraint \n",
    "for c in range(nCat):\n",
    "    cat_constr = m.addConstr( sum( x[i]*cats[i][c] for i in range(nProducts)) >= 1)"
   ]
  },
  {
   "cell_type": "code",
   "execution_count": 77,
   "metadata": {},
   "outputs": [],
   "source": [
    "m.update()\n",
    "m.optimize()"
   ]
  },
  {
   "cell_type": "code",
   "execution_count": 78,
   "metadata": {},
   "outputs": [
    {
     "name": "stdout",
     "output_type": "stream",
     "text": [
      "The optimized revenue from constrained integer LP equals to $25.88\n"
     ]
    }
   ],
   "source": [
    "print(f'The optimized revenue from constrained integer LP '\n",
    "      f'equals to ${round(m.objval,2)}')"
   ]
  },
  {
   "cell_type": "code",
   "execution_count": 79,
   "metadata": {},
   "outputs": [],
   "source": [
    "menu_constr = np.zeros(nProducts)\n",
    "for i in range(nProducts):\n",
    "    menu_constr[i] = x[i].x"
   ]
  },
  {
   "cell_type": "code",
   "execution_count": 80,
   "metadata": {},
   "outputs": [],
   "source": [
    "args = np.where(menu_constr == 1.0)[0]"
   ]
  },
  {
   "cell_type": "code",
   "execution_count": 81,
   "metadata": {},
   "outputs": [
    {
     "name": "stdout",
     "output_type": "stream",
     "text": [
      "Sushis chosen for the constrained menu:\n",
      "\n",
      "Sushi type: tamago         ;  Type #: 8  ;  Price: 8.26 ;  Avg. Ranking: 42.29 ;  Category Code: 9         \n",
      "Sushi type: toro           ;  Type #: 9  ;  Price: 35.88;  Avg. Ranking: 16.52 ;  Category Code: 1         \n",
      "Sushi type: awabi          ;  Type #: 15 ;  Price: 29.17;  Avg. Ranking: 62.592;  Category Code: 4         \n",
      "Sushi type: shako          ;  Type #: 18 ;  Price: 14.85;  Avg. Ranking: 63.808;  Category Code: 6         \n",
      "Sushi type: saba           ;  Type #: 19 ;  Price: 11.86;  Avg. Ranking: 47.296;  Category Code: 0         \n",
      "Sushi type: unagi          ;  Type #: 26 ;  Price: 17.9 ;  Avg. Ranking: 44.258;  Category Code: 3         \n",
      "Sushi type: geso           ;  Type #: 31 ;  Price: 8.15 ;  Avg. Ranking: 60.886;  Category Code: 5         \n",
      "Sushi type: tarabagani     ;  Type #: 48 ;  Price: 27.32;  Avg. Ranking: 26.71 ;  Category Code: 6         \n",
      "Sushi type: ankimo         ;  Type #: 60 ;  Price: 14.0 ;  Avg. Ranking: 76.546;  Category Code: 8         \n",
      "Sushi type: gyusashi       ;  Type #: 63 ;  Price: 16.29;  Avg. Ranking: 63.054;  Category Code: 10        \n",
      "Sushi type: fugu           ;  Type #: 66 ;  Price: 18.67;  Avg. Ranking: 59.232;  Category Code: 2         \n",
      "Sushi type: okura          ;  Type #: 70 ;  Price: 8.0  ;  Avg. Ranking: 85.73 ;  Category Code: 11        \n",
      "Sushi type: ika_nattou     ;  Type #: 76 ;  Price: 8.73 ;  Avg. Ranking: 56.324;  Category Code: 5         \n",
      "Sushi type: kaiware        ;  Type #: 79 ;  Price: 9.2  ;  Avg. Ranking: 73.804;  Category Code: 11        \n",
      "Sushi type: kue            ;  Type #: 82 ;  Price: 24.0 ;  Avg. Ranking: 74.13 ;  Category Code: 2         \n",
      "Sushi type: kamo           ;  Type #: 86 ;  Price: 12.0 ;  Avg. Ranking: 81.328;  Category Code: 10        \n",
      "Sushi type: mamakari       ;  Type #: 90 ;  Price: 16.0 ;  Avg. Ranking: 79.804;  Category Code: 0         \n",
      "Sushi type: kyabia         ;  Type #: 93 ;  Price: 8.0  ;  Avg. Ranking: 90.648;  Category Code: 7         \n",
      "Sushi type: kaki           ;  Type #: 100;  Price: 10.0 ;  Avg. Ranking: 82.3  ;  Category Code: 4         \n"
     ]
    }
   ],
   "source": [
    "print(f'Sushis chosen for the constrained menu:\\n')\n",
    "for i in range(len(args)):\n",
    "    print(f'Sushi type: {info_df.iloc[args[i],0]:<15};  '\n",
    "          f'Type #: {args[i]+1:<3};  '\n",
    "          f'Price: {info_df.iloc[args[i],2]:<5};  '\n",
    "          f'Avg. Ranking: {np.round(avg_ranks[args[i]],3):<6};  '\n",
    "          f'Category Code: {info_df.iloc[args[i],1]:<10}')"
   ]
  }
 ],
 "metadata": {
  "kernelspec": {
   "display_name": "Python 3",
   "language": "python",
   "name": "python3"
  },
  "language_info": {
   "codemirror_mode": {
    "name": "ipython",
    "version": 3
   },
   "file_extension": ".py",
   "mimetype": "text/x-python",
   "name": "python",
   "nbconvert_exporter": "python",
   "pygments_lexer": "ipython3",
   "version": "3.7.7"
  }
 },
 "nbformat": 4,
 "nbformat_minor": 4
}
